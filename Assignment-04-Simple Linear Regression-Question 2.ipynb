{
 "cells": [
  {
   "cell_type": "markdown",
   "id": "ad91d789",
   "metadata": {},
   "source": [
    "# Assignment-04-Simple Linear Regression- Question 2"
   ]
  },
  {
   "cell_type": "code",
   "execution_count": 85,
   "id": "8ebccae8",
   "metadata": {
    "ExecuteTime": {
     "end_time": "2023-02-01T14:37:25.008997Z",
     "start_time": "2023-02-01T14:37:24.998070Z"
    }
   },
   "outputs": [
    {
     "data": {
      "text/html": [
       "<div>\n",
       "<style scoped>\n",
       "    .dataframe tbody tr th:only-of-type {\n",
       "        vertical-align: middle;\n",
       "    }\n",
       "\n",
       "    .dataframe tbody tr th {\n",
       "        vertical-align: top;\n",
       "    }\n",
       "\n",
       "    .dataframe thead th {\n",
       "        text-align: right;\n",
       "    }\n",
       "</style>\n",
       "<table border=\"1\" class=\"dataframe\">\n",
       "  <thead>\n",
       "    <tr style=\"text-align: right;\">\n",
       "      <th></th>\n",
       "      <th>YearsExperience</th>\n",
       "      <th>Salary</th>\n",
       "    </tr>\n",
       "  </thead>\n",
       "  <tbody>\n",
       "    <tr>\n",
       "      <th>count</th>\n",
       "      <td>30.000000</td>\n",
       "      <td>30.000000</td>\n",
       "    </tr>\n",
       "    <tr>\n",
       "      <th>mean</th>\n",
       "      <td>5.313333</td>\n",
       "      <td>76003.000000</td>\n",
       "    </tr>\n",
       "    <tr>\n",
       "      <th>std</th>\n",
       "      <td>2.837888</td>\n",
       "      <td>27414.429785</td>\n",
       "    </tr>\n",
       "    <tr>\n",
       "      <th>min</th>\n",
       "      <td>1.100000</td>\n",
       "      <td>37731.000000</td>\n",
       "    </tr>\n",
       "    <tr>\n",
       "      <th>25%</th>\n",
       "      <td>3.200000</td>\n",
       "      <td>56720.750000</td>\n",
       "    </tr>\n",
       "    <tr>\n",
       "      <th>50%</th>\n",
       "      <td>4.700000</td>\n",
       "      <td>65237.000000</td>\n",
       "    </tr>\n",
       "    <tr>\n",
       "      <th>75%</th>\n",
       "      <td>7.700000</td>\n",
       "      <td>100544.750000</td>\n",
       "    </tr>\n",
       "    <tr>\n",
       "      <th>max</th>\n",
       "      <td>10.500000</td>\n",
       "      <td>122391.000000</td>\n",
       "    </tr>\n",
       "  </tbody>\n",
       "</table>\n",
       "</div>"
      ],
      "text/plain": [
       "       YearsExperience         Salary\n",
       "count        30.000000      30.000000\n",
       "mean          5.313333   76003.000000\n",
       "std           2.837888   27414.429785\n",
       "min           1.100000   37731.000000\n",
       "25%           3.200000   56720.750000\n",
       "50%           4.700000   65237.000000\n",
       "75%           7.700000  100544.750000\n",
       "max          10.500000  122391.000000"
      ]
     },
     "execution_count": 85,
     "metadata": {},
     "output_type": "execute_result"
    }
   ],
   "source": [
    "import numpy as np\n",
    "import pandas as pd\n",
    "import matplotlib.pyplot as plt\n",
    "df = pd.read_csv(\"Salary_Data.csv\")\n",
    "df.head()\n",
    "df.shape\n",
    "df.isnull().sum() \n",
    "# There are no null values\n",
    "df.describe()"
   ]
  },
  {
   "cell_type": "markdown",
   "id": "e2a9c41e",
   "metadata": {},
   "source": [
    "# EDA (boxplot, scatterplot, histogram)"
   ]
  },
  {
   "cell_type": "code",
   "execution_count": 86,
   "id": "99b752e3",
   "metadata": {
    "ExecuteTime": {
     "end_time": "2023-02-01T14:37:25.070240Z",
     "start_time": "2023-02-01T14:37:25.009965Z"
    }
   },
   "outputs": [
    {
     "data": {
      "text/plain": [
       "<AxesSubplot:>"
      ]
     },
     "execution_count": 86,
     "metadata": {},
     "output_type": "execute_result"
    },
    {
     "data": {
      "image/png": "[encoded data removed]",
      "text/plain": [
       "<Figure size 640x480 with 1 Axes>"
      ]
     },
     "metadata": {},
     "output_type": "display_data"
    }
   ],
   "source": [
    "df.boxplot(\"Salary\", vert=False)"
   ]
  },
  {
   "cell_type": "code",
   "execution_count": 87,
   "id": "b0af5773",
   "metadata": {
    "ExecuteTime": {
     "end_time": "2023-02-01T14:37:25.086244Z",
     "start_time": "2023-02-01T14:37:25.071131Z"
    }
   },
   "outputs": [],
   "source": [
    "Q1=np.percentile(df[\"Salary\"],25)"
   ]
  },
  {
   "cell_type": "code",
   "execution_count": 88,
   "id": "73cd8273",
   "metadata": {
    "ExecuteTime": {
     "end_time": "2023-02-01T14:37:25.101400Z",
     "start_time": "2023-02-01T14:37:25.088136Z"
    }
   },
   "outputs": [],
   "source": [
    "Q3=np.percentile(df[\"Salary\"],75)"
   ]
  },
  {
   "cell_type": "code",
   "execution_count": 89,
   "id": "99452d67",
   "metadata": {
    "ExecuteTime": {
     "end_time": "2023-02-01T14:37:25.108581Z",
     "start_time": "2023-02-01T14:37:25.102392Z"
    }
   },
   "outputs": [],
   "source": [
    "IQR=Q3-Q1 # 43824"
   ]
  },
  {
   "cell_type": "code",
   "execution_count": 90,
   "id": "1ed82b21",
   "metadata": {
    "ExecuteTime": {
     "end_time": "2023-02-01T14:37:25.172306Z",
     "start_time": "2023-02-01T14:37:25.110225Z"
    }
   },
   "outputs": [
    {
     "data": {
      "text/plain": [
       "<AxesSubplot:>"
      ]
     },
     "execution_count": 90,
     "metadata": {},
     "output_type": "execute_result"
    },
    {
     "data": {
      "image/png": "[encoded data removed]",
      "text/plain": [
       "<Figure size 640x480 with 1 Axes>"
      ]
     },
     "metadata": {},
     "output_type": "display_data"
    }
   ],
   "source": [
    "df.boxplot(\"YearsExperience\", vert=False)"
   ]
  },
  {
   "cell_type": "code",
   "execution_count": 91,
   "id": "2bd838c9",
   "metadata": {
    "ExecuteTime": {
     "end_time": "2023-02-01T14:37:25.188332Z",
     "start_time": "2023-02-01T14:37:25.174306Z"
    }
   },
   "outputs": [],
   "source": [
    "Q1=np.percentile(df[\"YearsExperience\"],25)"
   ]
  },
  {
   "cell_type": "code",
   "execution_count": 92,
   "id": "23e9c638",
   "metadata": {
    "ExecuteTime": {
     "end_time": "2023-02-01T14:37:25.203848Z",
     "start_time": "2023-02-01T14:37:25.189313Z"
    }
   },
   "outputs": [],
   "source": [
    "Q3=np.percentile(df[\"YearsExperience\"],75)"
   ]
  },
  {
   "cell_type": "code",
   "execution_count": 93,
   "id": "84aef9b3",
   "metadata": {
    "ExecuteTime": {
     "end_time": "2023-02-01T14:37:25.222326Z",
     "start_time": "2023-02-01T14:37:25.204828Z"
    }
   },
   "outputs": [],
   "source": [
    "IQR=Q3-Q1 # 4.5"
   ]
  },
  {
   "cell_type": "markdown",
   "id": "f0d61356",
   "metadata": {},
   "source": [
    "# There are no outliers and both the graphs are positively skewed"
   ]
  },
  {
   "cell_type": "code",
   "execution_count": 94,
   "id": "8ebd2704",
   "metadata": {
    "ExecuteTime": {
     "end_time": "2023-02-01T14:37:25.351933Z",
     "start_time": "2023-02-01T14:37:25.224361Z"
    }
   },
   "outputs": [
    {
     "data": {
      "text/plain": [
       "<AxesSubplot:xlabel='Salary', ylabel='YearsExperience'>"
      ]
     },
     "execution_count": 94,
     "metadata": {},
     "output_type": "execute_result"
    },
    {
     "data": {
      "image/png": "[encoded data removed]",
      "text/plain": [
       "<Figure size 640x480 with 1 Axes>"
      ]
     },
     "metadata": {},
     "output_type": "display_data"
    }
   ],
   "source": [
    "df.plot.scatter(x=\"Salary\", y=\"YearsExperience\")"
   ]
  },
  {
   "cell_type": "code",
   "execution_count": 95,
   "id": "acc1a112",
   "metadata": {
    "ExecuteTime": {
     "end_time": "2023-02-01T14:37:25.431014Z",
     "start_time": "2023-02-01T14:37:25.353933Z"
    }
   },
   "outputs": [
    {
     "data": {
      "text/plain": [
       "<AxesSubplot:>"
      ]
     },
     "execution_count": 95,
     "metadata": {},
     "output_type": "execute_result"
    },
    {
     "data": {
      "image/png": "[encoded data removed]",
      "text/plain": [
       "<Figure size 640x480 with 1 Axes>"
      ]
     },
     "metadata": {},
     "output_type": "display_data"
    }
   ],
   "source": [
    "df[\"Salary\"].hist()"
   ]
  },
  {
   "cell_type": "code",
   "execution_count": 96,
   "id": "a6231db3",
   "metadata": {
    "ExecuteTime": {
     "end_time": "2023-02-01T14:37:25.494547Z",
     "start_time": "2023-02-01T14:37:25.432011Z"
    }
   },
   "outputs": [
    {
     "data": {
      "text/plain": [
       "<AxesSubplot:>"
      ]
     },
     "execution_count": 96,
     "metadata": {},
     "output_type": "execute_result"
    },
    {
     "data": {
      "image/png": "[encoded data removed]",
      "text/plain": [
       "<Figure size 640x480 with 1 Axes>"
      ]
     },
     "metadata": {},
     "output_type": "display_data"
    }
   ],
   "source": [
    "df[\"YearsExperience\"].hist()"
   ]
  },
  {
   "cell_type": "markdown",
   "id": "e28a63da",
   "metadata": {
    "ExecuteTime": {
     "end_time": "2023-02-01T14:29:03.425362Z",
     "start_time": "2023-02-01T14:29:03.409613Z"
    }
   },
   "source": [
    "# Both the graphs are not bell shaped and the Salary graph has a gap but not the YearsExperience"
   ]
  },
  {
   "cell_type": "code",
   "execution_count": 97,
   "id": "44be5e62",
   "metadata": {
    "ExecuteTime": {
     "end_time": "2023-02-01T14:37:25.510524Z",
     "start_time": "2023-02-01T14:37:25.495524Z"
    }
   },
   "outputs": [
    {
     "data": {
      "text/html": [
       "<div>\n",
       "<style scoped>\n",
       "    .dataframe tbody tr th:only-of-type {\n",
       "        vertical-align: middle;\n",
       "    }\n",
       "\n",
       "    .dataframe tbody tr th {\n",
       "        vertical-align: top;\n",
       "    }\n",
       "\n",
       "    .dataframe thead th {\n",
       "        text-align: right;\n",
       "    }\n",
       "</style>\n",
       "<table border=\"1\" class=\"dataframe\">\n",
       "  <thead>\n",
       "    <tr style=\"text-align: right;\">\n",
       "      <th></th>\n",
       "      <th>YearsExperience</th>\n",
       "      <th>Salary</th>\n",
       "    </tr>\n",
       "  </thead>\n",
       "  <tbody>\n",
       "    <tr>\n",
       "      <th>YearsExperience</th>\n",
       "      <td>1.000000</td>\n",
       "      <td>0.978242</td>\n",
       "    </tr>\n",
       "    <tr>\n",
       "      <th>Salary</th>\n",
       "      <td>0.978242</td>\n",
       "      <td>1.000000</td>\n",
       "    </tr>\n",
       "  </tbody>\n",
       "</table>\n",
       "</div>"
      ],
      "text/plain": [
       "                 YearsExperience    Salary\n",
       "YearsExperience         1.000000  0.978242\n",
       "Salary                  0.978242  1.000000"
      ]
     },
     "execution_count": 97,
     "metadata": {},
     "output_type": "execute_result"
    }
   ],
   "source": [
    "df.corr()"
   ]
  },
  {
   "cell_type": "markdown",
   "id": "2dabf690",
   "metadata": {
    "ExecuteTime": {
     "end_time": "2023-02-01T14:29:48.659674Z",
     "start_time": "2023-02-01T14:29:48.644019Z"
    }
   },
   "source": [
    "# Both variables are strong positively correlated and the correlation b/w the variables is 0.978242"
   ]
  },
  {
   "cell_type": "markdown",
   "id": "c0f4cca6",
   "metadata": {
    "ExecuteTime": {
     "end_time": "2023-02-01T14:30:51.255328Z",
     "start_time": "2023-02-01T14:30:51.244576Z"
    }
   },
   "source": [
    "# Splitting the variables"
   ]
  },
  {
   "cell_type": "code",
   "execution_count": 98,
   "id": "05d19525",
   "metadata": {
    "ExecuteTime": {
     "end_time": "2023-02-01T14:37:25.526610Z",
     "start_time": "2023-02-01T14:37:25.511524Z"
    }
   },
   "outputs": [],
   "source": [
    "Y = df[[\"Salary\"]]\n",
    "X = df[[\"YearsExperience\"]]"
   ]
  },
  {
   "cell_type": "markdown",
   "id": "cf666b67",
   "metadata": {},
   "source": [
    "# Model fitting"
   ]
  },
  {
   "cell_type": "markdown",
   "id": "557b7007",
   "metadata": {
    "ExecuteTime": {
     "end_time": "2023-02-01T14:33:28.052936Z",
     "start_time": "2023-02-01T14:33:28.047948Z"
    }
   },
   "source": [
    "# MODEL 1"
   ]
  },
  {
   "cell_type": "code",
   "execution_count": 99,
   "id": "4238d792",
   "metadata": {
    "ExecuteTime": {
     "end_time": "2023-02-01T14:37:25.542560Z",
     "start_time": "2023-02-01T14:37:25.527608Z"
    }
   },
   "outputs": [],
   "source": [
    "from sklearn.linear_model import LinearRegression\n",
    "LR = LinearRegression()\n",
    "LR.fit(X,Y)\n",
    "y1 = LR.predict(X)"
   ]
  },
  {
   "cell_type": "code",
   "execution_count": 100,
   "id": "80175832",
   "metadata": {
    "ExecuteTime": {
     "end_time": "2023-02-01T14:37:25.557927Z",
     "start_time": "2023-02-01T14:37:25.543563Z"
    }
   },
   "outputs": [],
   "source": [
    "from sklearn.metrics import mean_squared_error, r2_score\n",
    "mse = mean_squared_error(Y,y1)\n",
    "# MSE = 31270951.7222"
   ]
  },
  {
   "cell_type": "code",
   "execution_count": 101,
   "id": "9457c3be",
   "metadata": {
    "ExecuteTime": {
     "end_time": "2023-02-01T14:37:25.574025Z",
     "start_time": "2023-02-01T14:37:25.558957Z"
    }
   },
   "outputs": [],
   "source": [
    "rmse = np.sqrt(mse).round(4)\n",
    "# RMSE = 5592.0436"
   ]
  },
  {
   "cell_type": "code",
   "execution_count": 102,
   "id": "ca3aeda6",
   "metadata": {
    "ExecuteTime": {
     "end_time": "2023-02-01T14:37:25.589538Z",
     "start_time": "2023-02-01T14:37:25.577031Z"
    }
   },
   "outputs": [
    {
     "data": {
      "text/plain": [
       "0.9569566641435086"
      ]
     },
     "execution_count": 102,
     "metadata": {},
     "output_type": "execute_result"
    }
   ],
   "source": [
    "r2_score(Y,y1)\n",
    "# r2score = 0.95695 (95%)"
   ]
  },
  {
   "cell_type": "markdown",
   "id": "8c2e30e6",
   "metadata": {},
   "source": [
    "# Transformations"
   ]
  },
  {
   "cell_type": "markdown",
   "id": "0b55fb30",
   "metadata": {},
   "source": [
    "# MODEL 2"
   ]
  },
  {
   "cell_type": "code",
   "execution_count": 103,
   "id": "eff27380",
   "metadata": {
    "ExecuteTime": {
     "end_time": "2023-02-01T14:37:25.605543Z",
     "start_time": "2023-02-01T14:37:25.590577Z"
    }
   },
   "outputs": [],
   "source": [
    "from sklearn.linear_model import LinearRegression\n",
    "LR=LinearRegression()\n",
    "LR.fit(np.log(X),Y)\n",
    "y1=LR.predict(np.log(X))"
   ]
  },
  {
   "cell_type": "code",
   "execution_count": 104,
   "id": "ce9e67c5",
   "metadata": {
    "ExecuteTime": {
     "end_time": "2023-02-01T14:37:25.621176Z",
     "start_time": "2023-02-01T14:37:25.606544Z"
    }
   },
   "outputs": [],
   "source": [
    "from sklearn.metrics import mean_squared_error, r2_score\n",
    "mse = mean_squared_error(Y,y1)\n",
    "# MSE = 106149618.7218"
   ]
  },
  {
   "cell_type": "code",
   "execution_count": 105,
   "id": "89a5fdd4",
   "metadata": {
    "ExecuteTime": {
     "end_time": "2023-02-01T14:37:25.637239Z",
     "start_time": "2023-02-01T14:37:25.622186Z"
    }
   },
   "outputs": [],
   "source": [
    "rmse = np.sqrt(mse).round(4)\n",
    "# RMSE = 10302.8937"
   ]
  },
  {
   "cell_type": "code",
   "execution_count": 106,
   "id": "506f6e76",
   "metadata": {
    "ExecuteTime": {
     "end_time": "2023-02-01T14:37:25.653219Z",
     "start_time": "2023-02-01T14:37:25.639219Z"
    }
   },
   "outputs": [
    {
     "data": {
      "text/plain": [
       "0.853888882875697"
      ]
     },
     "execution_count": 106,
     "metadata": {},
     "output_type": "execute_result"
    }
   ],
   "source": [
    "r2_score(Y,y1)\n",
    "# r2score =  0.85388 (85%)"
   ]
  },
  {
   "cell_type": "markdown",
   "id": "6bed01d1",
   "metadata": {},
   "source": [
    "# create log-transformed data"
   ]
  },
  {
   "cell_type": "code",
   "execution_count": 107,
   "id": "afd57af1",
   "metadata": {
    "ExecuteTime": {
     "end_time": "2023-02-01T14:37:25.789972Z",
     "start_time": "2023-02-01T14:37:25.655259Z"
    }
   },
   "outputs": [
    {
     "data": {
      "text/plain": [
       "Text(0.5, 1.0, 'Log-Transformed Data')"
      ]
     },
     "execution_count": 107,
     "metadata": {},
     "output_type": "execute_result"
    },
    {
     "data": {
      "image/png": "[encoded data removed]",
      "text/plain": [
       "<Figure size 640x480 with 2 Axes>"
      ]
     },
     "metadata": {},
     "output_type": "display_data"
    }
   ],
   "source": [
    "#create log-transformed data\n",
    "df_log = np.log(df)\n",
    "#define grid of plots\n",
    "fig, axs = plt.subplots(nrows=1, ncols=2)\n",
    "#create histograms\n",
    "axs[0].hist(df, edgecolor='black')\n",
    "axs[1].hist(df_log, edgecolor='black')\n",
    "#add title to each histogram\n",
    "axs[0].set_title('Original Data')\n",
    "axs[1].set_title('Log-Transformed Data')"
   ]
  },
  {
   "cell_type": "markdown",
   "id": "b0235f32",
   "metadata": {},
   "source": [
    "# MODEL 3"
   ]
  },
  {
   "cell_type": "code",
   "execution_count": 108,
   "id": "d8399e12",
   "metadata": {
    "ExecuteTime": {
     "end_time": "2023-02-01T14:38:07.332065Z",
     "start_time": "2023-02-01T14:38:07.305251Z"
    }
   },
   "outputs": [],
   "source": [
    "from sklearn.linear_model import LinearRegression\n",
    "LR=LinearRegression()\n",
    "LR.fit(np.sqrt(X),Y)\n",
    "y1=LR.predict(np.sqrt(X))"
   ]
  },
  {
   "cell_type": "code",
   "execution_count": 109,
   "id": "2b6b6897",
   "metadata": {
    "ExecuteTime": {
     "end_time": "2023-02-01T14:38:23.420054Z",
     "start_time": "2023-02-01T14:38:23.404386Z"
    }
   },
   "outputs": [],
   "source": [
    "from sklearn.metrics import mean_squared_error, r2_score\n",
    "mse = mean_squared_error(Y,y1)\n",
    "# MSE = 50127755.6165"
   ]
  },
  {
   "cell_type": "code",
   "execution_count": 110,
   "id": "9cef77a2",
   "metadata": {
    "ExecuteTime": {
     "end_time": "2023-02-01T14:38:41.053283Z",
     "start_time": "2023-02-01T14:38:41.046284Z"
    }
   },
   "outputs": [],
   "source": [
    "rmse = np.sqrt(mse).round(4)\n",
    "# RMSE = 7080.0957"
   ]
  },
  {
   "cell_type": "code",
   "execution_count": 111,
   "id": "8ff4eb41",
   "metadata": {
    "ExecuteTime": {
     "end_time": "2023-02-01T14:38:50.085211Z",
     "start_time": "2023-02-01T14:38:50.070162Z"
    }
   },
   "outputs": [
    {
     "data": {
      "text/plain": [
       "0.9310009544993526"
      ]
     },
     "execution_count": 111,
     "metadata": {},
     "output_type": "execute_result"
    }
   ],
   "source": [
    "r2_score(Y,y1)\n",
    "# r2score = 0.93100 (93%)"
   ]
  },
  {
   "cell_type": "code",
   "execution_count": 112,
   "id": "fbe9c09f",
   "metadata": {
    "ExecuteTime": {
     "end_time": "2023-02-01T14:39:13.283531Z",
     "start_time": "2023-02-01T14:39:13.159990Z"
    }
   },
   "outputs": [
    {
     "data": {
      "text/plain": [
       "Text(0.5, 1.0, 'Square Root Transformed Data')"
      ]
     },
     "execution_count": 112,
     "metadata": {},
     "output_type": "execute_result"
    },
    {
     "data": {
      "image/png": "[encoded data removed]",
      "text/plain": [
       "<Figure size 640x480 with 2 Axes>"
      ]
     },
     "metadata": {},
     "output_type": "display_data"
    }
   ],
   "source": [
    "#create sqrt-transformed data\n",
    "df_sqrt = np.sqrt(df)\n",
    "#define grid of plots\n",
    "fig, axs = plt.subplots(nrows=1, ncols=2)\n",
    "#create histograms\n",
    "axs[0].hist(df, edgecolor='black')\n",
    "axs[1].hist(df_sqrt, edgecolor='black')\n",
    "#add title to each histogram\n",
    "axs[0].set_title('Original Data')\n",
    "axs[1].set_title('Square Root Transformed Data')"
   ]
  },
  {
   "cell_type": "markdown",
   "id": "2ad96294",
   "metadata": {},
   "source": [
    "# MODEL 4"
   ]
  },
  {
   "cell_type": "code",
   "execution_count": 113,
   "id": "5048cbee",
   "metadata": {
    "ExecuteTime": {
     "end_time": "2023-02-01T14:39:49.501015Z",
     "start_time": "2023-02-01T14:39:49.491015Z"
    }
   },
   "outputs": [],
   "source": [
    "from sklearn.linear_model import LinearRegression\n",
    "LR=LinearRegression()\n",
    "LR.fit(X**2,Y)\n",
    "y1=LR.predict(X**2)"
   ]
  },
  {
   "cell_type": "code",
   "execution_count": 114,
   "id": "f019ce9c",
   "metadata": {
    "ExecuteTime": {
     "end_time": "2023-02-01T14:39:59.316035Z",
     "start_time": "2023-02-01T14:39:59.298017Z"
    }
   },
   "outputs": [],
   "source": [
    "from sklearn.metrics import mean_squared_error, r2_score\n",
    "mse = mean_squared_error(Y,y1)\n",
    "# MSE = 61520040.4605"
   ]
  },
  {
   "cell_type": "code",
   "execution_count": 115,
   "id": "05058473",
   "metadata": {
    "ExecuteTime": {
     "end_time": "2023-02-01T14:40:09.784080Z",
     "start_time": "2023-02-01T14:40:09.770091Z"
    }
   },
   "outputs": [],
   "source": [
    "rmse = np.sqrt(mse).round(4)\n",
    "# RMSE = 7843.4712"
   ]
  },
  {
   "cell_type": "code",
   "execution_count": 116,
   "id": "832347f6",
   "metadata": {
    "ExecuteTime": {
     "end_time": "2023-02-01T14:40:19.186197Z",
     "start_time": "2023-02-01T14:40:19.170570Z"
    }
   },
   "outputs": [
    {
     "data": {
      "text/plain": [
       "0.9153198857852564"
      ]
     },
     "execution_count": 116,
     "metadata": {},
     "output_type": "execute_result"
    }
   ],
   "source": [
    "r2_score(Y,y1)\n",
    "# r2score =  0.91531 (91%)"
   ]
  },
  {
   "cell_type": "code",
   "execution_count": 117,
   "id": "e35cbeae",
   "metadata": {
    "ExecuteTime": {
     "end_time": "2023-02-01T14:40:34.686319Z",
     "start_time": "2023-02-01T14:40:34.563067Z"
    }
   },
   "outputs": [
    {
     "data": {
      "text/plain": [
       "Text(0.5, 1.0, 'Cube Root Transformed Data')"
      ]
     },
     "execution_count": 117,
     "metadata": {},
     "output_type": "execute_result"
    },
    {
     "data": {
      "image/png": "[encoded data removed]",
      "text/plain": [
       "<Figure size 640x480 with 2 Axes>"
      ]
     },
     "metadata": {},
     "output_type": "display_data"
    }
   ],
   "source": [
    "#create cbrt-transformed data\n",
    "df_cbrt = np.cbrt(df)\n",
    "#define grid of plots\n",
    "fig, axs = plt.subplots(nrows=1, ncols=2)\n",
    "#create histograms\n",
    "axs[0].hist(df, edgecolor='black')\n",
    "axs[1].hist(df_cbrt, edgecolor='black')\n",
    "#add title to each histogram\n",
    "axs[0].set_title('Original Data')\n",
    "axs[1].set_title('Cube Root Transformed Data')"
   ]
  },
  {
   "cell_type": "markdown",
   "id": "3fd7f280",
   "metadata": {},
   "source": [
    "# Inference : A prediction model is built and the best model selected is model 1 since its r2score is 95%"
   ]
  },
  {
   "cell_type": "code",
   "execution_count": null,
   "id": "2315a305",
   "metadata": {},
   "outputs": [],
   "source": []
  }
 ],
 "metadata": {
  "kernelspec": {
   "display_name": "Python 3 (ipykernel)",
   "language": "python",
   "name": "python3"
  },
  "language_info": {
   "codemirror_mode": {
    "name": "ipython",
    "version": 3
   },
   "file_extension": ".py",
   "mimetype": "text/x-python",
   "name": "python",
   "nbconvert_exporter": "python",
   "pygments_lexer": "ipython3",
   "version": "3.9.13"
  }
 },
 "nbformat": 4,
 "nbformat_minor": 5
}
